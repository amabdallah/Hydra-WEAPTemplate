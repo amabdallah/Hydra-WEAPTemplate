{
 "cells": [
  {
   "cell_type": "code",
   "execution_count": 12,
   "metadata": {
    "collapsed": true
   },
   "outputs": [],
   "source": [
    "import pandas as pd\n",
    "import xml.etree.ElementTree as ET"
   ]
  },
  {
   "cell_type": "code",
   "execution_count": 13,
   "metadata": {
    "collapsed": true
   },
   "outputs": [],
   "source": [
    "'''\n",
    "a shortcut to ET.SubElenment(parent, child).text ( and *.text = text )\n",
    "'''\n",
    "def add_node(parent, child, text):\n",
    "    if type(text)==str:\n",
    "        ET.SubElement(parent, child).text = text\n",
    "    else:\n",
    "        ET.SubElement(parent, child)"
   ]
  },
  {
   "cell_type": "code",
   "execution_count": 14,
   "metadata": {
    "collapsed": true
   },
   "outputs": [],
   "source": [
    "'''\n",
    "pretty print xml from http://effbot.org/zone/element-lib.htm#prettyprint\n",
    "'''\n",
    "def indent(elem, level=0):\n",
    "    i = \"\\n\" + level*\"  \"\n",
    "    if len(elem):\n",
    "        if not elem.text or not elem.text.strip():\n",
    "            elem.text = i + \"  \"\n",
    "        if not elem.tail or not elem.tail.strip():\n",
    "            elem.tail = i\n",
    "        for elem in elem:\n",
    "            indent(elem, level+1)\n",
    "        if not elem.tail or not elem.tail.strip():\n",
    "            elem.tail = i\n",
    "    else:\n",
    "        if level and (not elem.tail or not elem.tail.strip()):\n",
    "            elem.tail = i"
   ]
  },
  {
   "cell_type": "code",
   "execution_count": 15,
   "metadata": {
    "collapsed": false
   },
   "outputs": [],
   "source": [
    "# load features and variables from csv\n",
    "features_all = pd.read_csv('./WEAP_default_features.csv')\n",
    "variables_all = pd.read_csv('./WEAP_default_variables.csv')"
   ]
  },
  {
   "cell_type": "code",
   "execution_count": 27,
   "metadata": {
    "collapsed": true
   },
   "outputs": [],
   "source": [
    "# template name\n",
    "tpl = ET.Element('template_definition')\n",
    "tree = ET.ElementTree(tpl)\n",
    "ET.SubElement(tpl, 'template_name').text = 'WEAP template'"
   ]
  },
  {
   "cell_type": "code",
   "execution_count": 28,
   "metadata": {
    "collapsed": false
   },
   "outputs": [],
   "source": [
    "'''\n",
    "add layout\n",
    "'''\n",
    "layout = ET.SubElement(tpl, 'layout')\n",
    "item = ET.SubElement(layout, 'item')\n",
    "add_node(item, 'name', 'grouping')\n",
    "value = ET.SubElement(item, 'value')\n",
    "add_node(value, 'name', 'WEAP')\n",
    "add_node(value, 'description', 'A template to mimick WEAP features and symbols')\n",
    "categories = ET.SubElement(value, 'categories')\n",
    "\n",
    "cats = features_all.category.unique()\n",
    "for cat in cats:\n",
    "    category = ET.SubElement(categories, 'category')\n",
    "    for attr in ['name', 'description', 'displayname']:\n",
    "        add_node(category, attr, cat)\n",
    "    groups = ET.SubElement(category, 'groups')\n",
    "    \n",
    "    features = features_all[features_all.category==cat]\n",
    "    for f in features.itertuples():\n",
    "        group = ET.SubElement(groups, 'group')\n",
    "        add_node(group, 'name', f.name)\n",
    "        add_node(group, 'description', f.description)\n",
    "        add_node(group, 'displayname', f.displayname)\n",
    "        add_node(group, 'image', f.image)"
   ]
  },
  {
   "cell_type": "code",
   "execution_count": 35,
   "metadata": {
    "collapsed": false
   },
   "outputs": [],
   "source": [
    "'''\n",
    "add resources\n",
    "'''\n",
    "resources = ET.SubElement(tpl, 'resources')\n",
    "\n",
    "features = variables_all.feature.unique()\n",
    "for feature in features:\n",
    "\n",
    "    resource = ET.SubElement(resources, 'resource')\n",
    "\n",
    "    # add resource layout info\n",
    "    \n",
    "    \n",
    "    # add resource info\n",
    "    add_node(resource, 'type', 'NODE')\n",
    "    add_node(resource, 'name', feature)\n",
    "    layout = ET.SubElement(resource, 'layout')\n",
    "    item = ET.SubElement(layout, 'item')\n",
    "    add_node(item, 'name', 'image')\n",
    "    add_node(item, 'value', 'images\\\\'+feature+'.png')\n",
    "    item = ET.SubElement(layout, 'item')\n",
    "    add_node(item, 'name', 'group')\n",
    "    add_node(item, 'value', feature)\n",
    "    \n",
    "    # add variables\n",
    "    feature_variables = variables_all[variables_all.feature == feature]\n",
    "    for v in feature_variables.itertuples():\n",
    "        attr = ET.SubElement(resource, 'attribute')\n",
    "        add_node(attr, 'name', v.variable)\n",
    "        add_node(attr, 'default', v.default_value)\n",
    "        add_node(attr, 'unit', v.unit)\n",
    "        add_node(attr, 'scale', v.scale)\n",
    "        add_node(attr, 'per_unit', v.per_unit)\n",
    "        if v.has_dest=='TRUE':\n",
    "            ET.SubElement(attr, 'to')\n",
    "        if v.has_src=='TRUE':\n",
    "            ET.SubElement(attr, 'from')"
   ]
  },
  {
   "cell_type": "code",
   "execution_count": 36,
   "metadata": {
    "collapsed": false
   },
   "outputs": [],
   "source": [
    "indent(tpl)"
   ]
  },
  {
   "cell_type": "code",
   "execution_count": 37,
   "metadata": {
    "collapsed": true
   },
   "outputs": [],
   "source": [
    "tree.write('./WEAP template/template/template.xml', xml_declaration=True, encoding='utf-8')"
   ]
  },
  {
   "cell_type": "code",
   "execution_count": null,
   "metadata": {
    "collapsed": true
   },
   "outputs": [],
   "source": []
  }
 ],
 "metadata": {
  "kernelspec": {
   "display_name": "Python 2",
   "language": "python",
   "name": "python2"
  },
  "language_info": {
   "codemirror_mode": {
    "name": "ipython",
    "version": 2
   },
   "file_extension": ".py",
   "mimetype": "text/x-python",
   "name": "python",
   "nbconvert_exporter": "python",
   "pygments_lexer": "ipython2",
   "version": "2.7.11"
  }
 },
 "nbformat": 4,
 "nbformat_minor": 0
}
